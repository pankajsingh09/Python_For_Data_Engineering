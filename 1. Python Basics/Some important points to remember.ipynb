{
 "cells": [
  {
   "cell_type": "markdown",
   "id": "68187d70",
   "metadata": {},
   "source": [
    "## Difference between ‘and’ and ‘&’ in Python"
   ]
  },
  {
   "cell_type": "markdown",
   "id": "eda72554",
   "metadata": {},
   "source": [
    "**and is a Logical AND that returns True if both the operands are true whereas ‘&’ is a bitwise operator in Python that acts on bits and performs bit-by-bit operations.\n",
    "Note: When an integer value is 0, it is considered as False otherwise True when used logically.**\n",
    "\n",
    "Example:  "
   ]
  },
  {
   "cell_type": "code",
   "execution_count": 2,
   "id": "033c05ad",
   "metadata": {},
   "outputs": [
    {
     "name": "stdout",
     "output_type": "stream",
     "text": [
      "14\n",
      "4\n",
      "False\n",
      "False\n"
     ]
    }
   ],
   "source": [
    "# Python program to demonstrate\n",
    "# the difference between and, &\n",
    "# operator\n",
    "\n",
    "a = 14\n",
    "b = 4\n",
    "\n",
    "print(b and a) # print_stat1\n",
    "print(b & a) # print_stat2\n",
    "\n",
    "c=True\n",
    "d=False\n",
    "\n",
    "print(c and d)\n",
    "print(c & d)\n"
   ]
  },
  {
   "cell_type": "code",
   "execution_count": null,
   "id": "41c30567",
   "metadata": {},
   "outputs": [],
   "source": []
  }
 ],
 "metadata": {
  "kernelspec": {
   "display_name": "Python 3 (ipykernel)",
   "language": "python",
   "name": "python3"
  },
  "language_info": {
   "codemirror_mode": {
    "name": "ipython",
    "version": 3
   },
   "file_extension": ".py",
   "mimetype": "text/x-python",
   "name": "python",
   "nbconvert_exporter": "python",
   "pygments_lexer": "ipython3",
   "version": "3.9.13"
  }
 },
 "nbformat": 4,
 "nbformat_minor": 5
}
