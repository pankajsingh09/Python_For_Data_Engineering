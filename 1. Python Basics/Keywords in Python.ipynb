{
 "cells": [
  {
   "cell_type": "markdown",
   "id": "f5ea9c28",
   "metadata": {},
   "source": [
    "# Keywords in Python"
   ]
  },
  {
   "cell_type": "markdown",
   "id": "f81faf29",
   "metadata": {},
   "source": [
    "### True, False, None"
   ]
  },
  {
   "cell_type": "markdown",
   "id": "5db54e59",
   "metadata": {},
   "source": [
    "- True: This keyword is used to represent a boolean true. If a statement is true, “True” is printed.\n",
    "- False: This keyword is used to represent a boolean false. If a statement is false, “False” is printed. \n",
    "- None: This is a special constant used to denote a null value or a void. It’s important to remember, 0, any empty container(e.g  empty list) does not compute to None. "
   ]
  },
  {
   "cell_type": "markdown",
   "id": "dbe14408",
   "metadata": {},
   "source": [
    "### and, or, not, in, is"
   ]
  },
  {
   "cell_type": "markdown",
   "id": "613133a1",
   "metadata": {},
   "source": [
    "- and: This a logical operator in python. “and” Return the first false value. If not found return last.\n",
    "- or: This a logical operator in python. “or” Return the first True value.if not found return last.\n",
    "- not: This logical operator inverts the truth value. \n",
    "- in: This keyword is used to check if a container contains a value. This keyword is also used to loop through the container.\n",
    "- **is: This keyword is used to test object identity, i.e to check if both the objects take the same memory location or not.** "
   ]
  },
  {
   "cell_type": "markdown",
   "id": "b6ad0f6b",
   "metadata": {},
   "source": [
    "### Difference B/W        \"is\" and \"==\""
   ]
  },
  {
   "cell_type": "markdown",
   "id": "fa7c8416",
   "metadata": {},
   "source": [
    "**The == operator compares the value or equality of two objects, whereas the Python 'is' operator checks whether two variables point to the same object in memory.**"
   ]
  },
  {
   "cell_type": "markdown",
   "id": "926f50de",
   "metadata": {},
   "source": [
    "### Iteration Keywords – for, while, break, continue\n",
    "\n",
    "- for: This keyword is used to control flow and for looping.\n",
    "- while: Has a similar working like “for”, used to control flow and for looping.\n",
    "- break: “break” is used to control the flow of the loop. The statement is used to break out of the loop and passes the control to the statement following immediately after loop.\n",
    "- continue: “continue” is also used to control the flow of code. The keyword skips the current iteration of the loop but does not end the loop."
   ]
  },
  {
   "cell_type": "markdown",
   "id": "481bdeda",
   "metadata": {},
   "source": [
    "### pass\n",
    "- pass is the null statement in python. Nothing happens when this is encountered. This is used to prevent indentation errors and used as a placeholder."
   ]
  },
  {
   "cell_type": "code",
   "execution_count": 9,
   "id": "3762b167",
   "metadata": {},
   "outputs": [],
   "source": [
    "n = 10\n",
    "for i in range(n):\n",
    "\t\n",
    "# pass can be used as placeholder\n",
    "# when code is to added later\n",
    "\tpass\n"
   ]
  },
  {
   "cell_type": "markdown",
   "id": "bd0a339e",
   "metadata": {},
   "source": [
    "#### Diff in Break Continue and Pass --> Break is used to come out of loop, Continue skips all the code after it and jups to the loop, Pass just do nothing and send code execution to the next line."
   ]
  },
  {
   "cell_type": "markdown",
   "id": "b3d790ef",
   "metadata": {},
   "source": [
    "### Conditional keywords – if, else, elif\n",
    "- if : It is a control statement for decision making. Truth expression forces control to go in “if” statement block.\n",
    "- else : It is a control statement for decision making. False expression forces control to go in “else” statement block.\n",
    "- elif : It is a control statement for decision making. It is short for “else if“"
   ]
  },
  {
   "cell_type": "markdown",
   "id": "a2845a81",
   "metadata": {},
   "source": [
    "### def\n",
    "- def keyword is used to declare user defined functions."
   ]
  },
  {
   "cell_type": "markdown",
   "id": "f8af281f",
   "metadata": {},
   "source": [
    "### Return Keywords – Return, Yield\n",
    "- return : This keyword is used to return from the function.\n",
    "- yield : This keyword is used like return statement but is used to return a generator."
   ]
  },
  {
   "cell_type": "code",
   "execution_count": 4,
   "id": "9100cca7",
   "metadata": {},
   "outputs": [
    {
     "name": "stdout",
     "output_type": "stream",
     "text": [
      "45\n",
      "0\n",
      "1\n",
      "3\n",
      "6\n",
      "10\n",
      "15\n",
      "21\n",
      "28\n",
      "36\n",
      "45\n",
      "<generator object fun at 0x000001A257DCD3C0>\n"
     ]
    }
   ],
   "source": [
    "# Return keyword\n",
    "def fun():\n",
    "\tS = 0\n",
    "\t\n",
    "\tfor i in range(10):\n",
    "\t\tS += i\n",
    "\treturn S\n",
    "\n",
    "print(fun())\n",
    "\n",
    "# Yield Keyword\n",
    "def fun():\n",
    "\tS = 0\n",
    "\t\n",
    "\tfor i in range(10):\n",
    "\t\tS += i\n",
    "\t\tyield S\n",
    "\n",
    "for i in fun():\n",
    "\tprint(i)\n",
    "    \n",
    "print(fun())\n"
   ]
  },
  {
   "cell_type": "markdown",
   "id": "19adb2de",
   "metadata": {},
   "source": [
    "### class\n",
    "- class keyword is used to declare user defined classes."
   ]
  },
  {
   "cell_type": "code",
   "execution_count": 5,
   "id": "d1cfc874",
   "metadata": {},
   "outputs": [
    {
     "name": "stdout",
     "output_type": "stream",
     "text": [
      "mammal\n",
      "I'm a mammal\n",
      "I'm a dog\n"
     ]
    }
   ],
   "source": [
    "# Python3 program to\n",
    "# demonstrate instantiating\n",
    "# a class\n",
    "\n",
    "\n",
    "class Dog:\n",
    "\t\n",
    "\t# A simple class\n",
    "\t# attribute\n",
    "\tattr1 = \"mammal\"\n",
    "\tattr2 = \"dog\"\n",
    "\n",
    "\t# A sample method\n",
    "\tdef fun(self):\n",
    "\t\tprint(\"I'm a\", self.attr1)\n",
    "\t\tprint(\"I'm a\", self.attr2)\n",
    "\n",
    "# Driver code\n",
    "# Object instantiation\n",
    "Rodger = Dog()\n",
    "\n",
    "# Accessing class attributes\n",
    "# and method through objects\n",
    "print(Rodger.attr1)\n",
    "Rodger.fun()\n"
   ]
  },
  {
   "cell_type": "markdown",
   "id": "99f63085",
   "metadata": {},
   "source": [
    "### With\n",
    "- with keyword is used to wrap the execution of block of code within methods defined by context manager. This keyword is not used much in day to day programming."
   ]
  },
  {
   "cell_type": "code",
   "execution_count": 7,
   "id": "42ada269",
   "metadata": {},
   "outputs": [],
   "source": [
    "# using with statement\n",
    "with open('file_path', 'w') as file:\n",
    "\tfile.write('hello world !')\n"
   ]
  },
  {
   "cell_type": "markdown",
   "id": "598f01cb",
   "metadata": {},
   "source": [
    "### as\n",
    "- as keyword is used to create the alias for the module imported. i.e giving a new name to the imported module. E.g import math as gfg."
   ]
  },
  {
   "cell_type": "code",
   "execution_count": 8,
   "id": "8a63ab4e",
   "metadata": {},
   "outputs": [
    {
     "name": "stdout",
     "output_type": "stream",
     "text": [
      "120\n"
     ]
    }
   ],
   "source": [
    "import math as gfg\n",
    "\n",
    "print(gfg.factorial(5))\n"
   ]
  },
  {
   "cell_type": "markdown",
   "id": "e8f359bd",
   "metadata": {},
   "source": [
    "### Lambda\n",
    "- Lambda keyword is used to make inline returning functions with no statements allowed internally. "
   ]
  },
  {
   "cell_type": "code",
   "execution_count": 10,
   "id": "87ada635",
   "metadata": {},
   "outputs": [
    {
     "name": "stdout",
     "output_type": "stream",
     "text": [
      "343\n"
     ]
    }
   ],
   "source": [
    "# Lambda keyword\n",
    "g = lambda x: x*x*x\n",
    "\n",
    "print(g(7))\n"
   ]
  },
  {
   "cell_type": "code",
   "execution_count": 29,
   "id": "d9053024",
   "metadata": {},
   "outputs": [
    {
     "name": "stdout",
     "output_type": "stream",
     "text": [
      "True\n"
     ]
    }
   ],
   "source": [
    "even = lambda x: x%2==0\n",
    "print(even(8))"
   ]
  },
  {
   "cell_type": "code",
   "execution_count": 13,
   "id": "df9d4655",
   "metadata": {},
   "outputs": [
    {
     "name": "stdout",
     "output_type": "stream",
     "text": [
      "20\n"
     ]
    }
   ],
   "source": [
    "y = lambda p: p*4\n",
    "\n",
    "print(y(5))"
   ]
  },
  {
   "cell_type": "markdown",
   "id": "7e417a1e",
   "metadata": {},
   "source": [
    "### Import, From\n",
    "- import : This statement is used to include a particular module into current program.\n",
    "- from : Generally used with import, from is used to import particular functionality from the module imported."
   ]
  },
  {
   "cell_type": "markdown",
   "id": "65e79efe",
   "metadata": {},
   "source": [
    "### What is Python Module \n",
    "- A Python module is a file containing Python definitions and statements. A module can define functions, classes, and variables.\n",
    "- To create a module just save the code you want in a file with the file extension .py"
   ]
  },
  {
   "cell_type": "markdown",
   "id": "dfb3a442",
   "metadata": {},
   "source": [
    "### Exception Handling Keywords – try, except, raise, finally, and assert"
   ]
  },
  {
   "cell_type": "markdown",
   "id": "d8457b9c",
   "metadata": {},
   "source": [
    "- try : This keyword is used for exception handling, used to catch the errors in the code using the keyword except. Code in “try” block is checked, if there is any type of error, except block is executed.\n",
    "- except : As explained above, this works together with “try” to catch exceptions.\n",
    "- finally : No matter what is result of the “try” block, block termed “finally” is always executed.\n",
    "- raise: We can raise an exception explicitly with the raise keyword\n",
    "- assert: This function is used for debugging purposes. Usually used to check the correctness of code. If a statement is evaluated to be true, nothing happens, but when it is false, “AssertionError” is raised. One can also print a message with the error, separated by a comma."
   ]
  },
  {
   "cell_type": "markdown",
   "id": "6283d118",
   "metadata": {},
   "source": [
    "### del\n",
    "- del is used to delete a reference to an object. Any variable or list value can be deleted using del."
   ]
  },
  {
   "cell_type": "code",
   "execution_count": 14,
   "id": "998bc33e",
   "metadata": {},
   "outputs": [
    {
     "name": "stdout",
     "output_type": "stream",
     "text": [
      "20\n",
      "GeeksForGeeks\n"
     ]
    },
    {
     "ename": "NameError",
     "evalue": "name 'my_variable1' is not defined",
     "output_type": "error",
     "traceback": [
      "\u001b[1;31m---------------------------------------------------------------------------\u001b[0m",
      "\u001b[1;31mNameError\u001b[0m                                 Traceback (most recent call last)",
      "Cell \u001b[1;32mIn [14], line 13\u001b[0m\n\u001b[0;32m     10\u001b[0m \u001b[38;5;28;01mdel\u001b[39;00m my_variable2\n\u001b[0;32m     12\u001b[0m \u001b[38;5;66;03m# check if my_variable1 and my_variable2 exists\u001b[39;00m\n\u001b[1;32m---> 13\u001b[0m \u001b[38;5;28mprint\u001b[39m(my_variable1)\n\u001b[0;32m     14\u001b[0m \u001b[38;5;28mprint\u001b[39m(my_variable2)\n",
      "\u001b[1;31mNameError\u001b[0m: name 'my_variable1' is not defined"
     ]
    }
   ],
   "source": [
    "my_variable1 = 20\n",
    "my_variable2 = \"GeeksForGeeks\"\n",
    "\n",
    "# check if my_variable1 and my_variable2 exists\n",
    "print(my_variable1)\n",
    "print(my_variable2)\n",
    "\n",
    "# delete both the variables\n",
    "del my_variable1\n",
    "del my_variable2\n",
    "\n",
    "# check if my_variable1 and my_variable2 exists\n",
    "print(my_variable1)\n",
    "print(my_variable2)\n"
   ]
  },
  {
   "cell_type": "markdown",
   "id": "e3745328",
   "metadata": {},
   "source": [
    "### Global, Nonlocal\n",
    "- global: This keyword is used to define a variable inside the function to be of a global scope.\n",
    "- non-local : This keyword works similar to the global, but rather than global, this keyword declares a variable to point to variable of outside enclosing function, in case of nested functions."
   ]
  },
  {
   "cell_type": "code",
   "execution_count": 26,
   "id": "c0a23d8a",
   "metadata": {},
   "outputs": [
    {
     "name": "stdout",
     "output_type": "stream",
     "text": [
      "25\n",
      "20\n"
     ]
    }
   ],
   "source": [
    "# global variable\n",
    "a = 15\n",
    "b = 10\n",
    "\n",
    "# function to perform addition\n",
    "def add():\n",
    "\tc = a + b\n",
    "\tprint(c)\n",
    "\n",
    "# calling a function\n",
    "add()\n",
    "\n",
    "# nonlocal keyword\n",
    "def fun():\n",
    "\tvar1 = 10\n",
    "\n",
    "\tdef gun():\n",
    "\t\t# tell python explicitly that it\n",
    "\t\t# has to access var1 initialized\n",
    "\t\t# in fun on line 2\n",
    "\t\t# using the keyword nonlocal\n",
    "\t\tnonlocal var1\n",
    "\t\t\n",
    "\t\tvar1 = var1 + 10\n",
    "\t\tprint(var1)\n",
    "\n",
    "\tgun()\n",
    "fun()\n"
   ]
  },
  {
   "cell_type": "code",
   "execution_count": null,
   "id": "b6901c19",
   "metadata": {},
   "outputs": [],
   "source": []
  },
  {
   "cell_type": "code",
   "execution_count": null,
   "id": "947d6012",
   "metadata": {},
   "outputs": [],
   "source": []
  }
 ],
 "metadata": {
  "kernelspec": {
   "display_name": "Python 3 (ipykernel)",
   "language": "python",
   "name": "python3"
  },
  "language_info": {
   "codemirror_mode": {
    "name": "ipython",
    "version": 3
   },
   "file_extension": ".py",
   "mimetype": "text/x-python",
   "name": "python",
   "nbconvert_exporter": "python",
   "pygments_lexer": "ipython3",
   "version": "3.9.13"
  }
 },
 "nbformat": 4,
 "nbformat_minor": 5
}
