{
 "cells": [
  {
   "cell_type": "code",
   "execution_count": 8,
   "id": "47a285a1",
   "metadata": {},
   "outputs": [],
   "source": [
    "class Demo:\n",
    "    \n",
    "    key=10\n",
    "    \n",
    "    def __init(self):\n",
    "        pass\n",
    "    \n",
    "    def sayHello(self):\n",
    "        print(\"Hello and my key is {}\".format(self.key))\n",
    "    \n"
   ]
  },
  {
   "cell_type": "code",
   "execution_count": 9,
   "id": "523a8388",
   "metadata": {},
   "outputs": [],
   "source": [
    "d = Demo()"
   ]
  },
  {
   "cell_type": "code",
   "execution_count": 10,
   "id": "97f95700",
   "metadata": {},
   "outputs": [
    {
     "name": "stdout",
     "output_type": "stream",
     "text": [
      "Hello and my key is 10\n"
     ]
    }
   ],
   "source": [
    "d.sayHello()"
   ]
  },
  {
   "cell_type": "code",
   "execution_count": 11,
   "id": "210b2b76",
   "metadata": {},
   "outputs": [
    {
     "data": {
      "text/plain": [
       "10"
      ]
     },
     "execution_count": 11,
     "metadata": {},
     "output_type": "execute_result"
    }
   ],
   "source": [
    "d.key"
   ]
  },
  {
   "cell_type": "code",
   "execution_count": 14,
   "id": "8fce4fec",
   "metadata": {},
   "outputs": [],
   "source": [
    "result = lambda x : x*5"
   ]
  },
  {
   "cell_type": "code",
   "execution_count": 15,
   "id": "acca95f9",
   "metadata": {},
   "outputs": [
    {
     "name": "stdout",
     "output_type": "stream",
     "text": [
      "50\n"
     ]
    }
   ],
   "source": [
    "print(result(10))"
   ]
  },
  {
   "cell_type": "code",
   "execution_count": 20,
   "id": "6ccb062c",
   "metadata": {},
   "outputs": [
    {
     "name": "stdout",
     "output_type": "stream",
     "text": [
      "1, a\n",
      "2, b\n",
      "3, c\n",
      "4, d\n",
      "5, e\n",
      "6, f\n",
      "7, g\n",
      "8, h\n",
      "9, i\n",
      "10, j\n",
      "11, k\n",
      "12, l\n",
      "13, m\n",
      "14, n\n",
      "15, o\n",
      "16, p\n",
      "17, q\n",
      "18, r\n",
      "19, s\n",
      "20, t\n",
      "21, u\n",
      "22, v\n",
      "23, w\n",
      "24, x\n",
      "25, y\n",
      "26, z\n"
     ]
    }
   ],
   "source": [
    "for i, letter in enumerate('abcdefghijklmnopqrstuvwxyz'):\n",
    "    print(\"{}, {}\".format(i+1,letter))"
   ]
  },
  {
   "cell_type": "code",
   "execution_count": 21,
   "id": "4abfc31d",
   "metadata": {},
   "outputs": [],
   "source": [
    "class A:\n",
    "    def sayHello(self):\n",
    "        print(\"Hello\")"
   ]
  },
  {
   "cell_type": "code",
   "execution_count": 22,
   "id": "d5f2fe97",
   "metadata": {},
   "outputs": [],
   "source": [
    "a = A()"
   ]
  },
  {
   "cell_type": "code",
   "execution_count": 23,
   "id": "dec816c3",
   "metadata": {},
   "outputs": [
    {
     "name": "stdout",
     "output_type": "stream",
     "text": [
      "Hello\n"
     ]
    }
   ],
   "source": [
    "a.sayHello()"
   ]
  },
  {
   "cell_type": "code",
   "execution_count": 27,
   "id": "0af1cc93",
   "metadata": {},
   "outputs": [],
   "source": [
    "class Error(Exception):\n",
    "    pass\n",
    "class DemoError(Error):\n",
    "    pass"
   ]
  },
  {
   "cell_type": "code",
   "execution_count": 30,
   "id": "826dabdf",
   "metadata": {},
   "outputs": [
    {
     "name": "stdout",
     "output_type": "stream",
     "text": [
      "Demo\n"
     ]
    }
   ],
   "source": [
    "try:\n",
    "    a=0\n",
    "    if a==0:\n",
    "        raise DemoError\n",
    "except DemoError:\n",
    "    print(\"Demo\")\n",
    "except Exception as e:\n",
    "    print(e)"
   ]
  },
  {
   "cell_type": "code",
   "execution_count": null,
   "id": "fb23a5b7",
   "metadata": {},
   "outputs": [],
   "source": []
  },
  {
   "cell_type": "code",
   "execution_count": null,
   "id": "e6f1baa8",
   "metadata": {},
   "outputs": [],
   "source": []
  }
 ],
 "metadata": {
  "kernelspec": {
   "display_name": "Python 3 (ipykernel)",
   "language": "python",
   "name": "python3"
  },
  "language_info": {
   "codemirror_mode": {
    "name": "ipython",
    "version": 3
   },
   "file_extension": ".py",
   "mimetype": "text/x-python",
   "name": "python",
   "nbconvert_exporter": "python",
   "pygments_lexer": "ipython3",
   "version": "3.9.13"
  }
 },
 "nbformat": 4,
 "nbformat_minor": 5
}
