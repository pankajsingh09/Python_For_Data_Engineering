{
 "cells": [
  {
   "cell_type": "markdown",
   "id": "e26b45bf",
   "metadata": {},
   "source": [
    "# Basic of Python\n",
    "- Datatypes in Python\n",
    "- Variable\n",
    "- Variable assignment\n",
    "- Print Formatting"
   ]
  },
  {
   "cell_type": "markdown",
   "id": "f0b61c82",
   "metadata": {},
   "source": [
    "## Datatypes in Python"
   ]
  },
  {
   "cell_type": "markdown",
   "id": "6184725b",
   "metadata": {},
   "source": [
    "### Python - Data Types\n",
    "1. Numeric - int, float, complex.\n",
    "2. String - str.\n",
    "3. Sequence - list, tuple, range.\n",
    "4. Binary - bytes, bytearray, memoryview.\n",
    "5. Mapping - dict.\n",
    "6. Boolean - bool.\n",
    "7. Set - set, frozenset.\n",
    "8. None - NoneType."
   ]
  },
  {
   "cell_type": "markdown",
   "id": "07bd0149",
   "metadata": {},
   "source": [
    "# Numbers\n"
   ]
  },
  {
   "cell_type": "code",
   "execution_count": 4,
   "id": "45507cc7",
   "metadata": {},
   "outputs": [
    {
     "data": {
      "text/plain": [
       "5"
      ]
     },
     "execution_count": 4,
     "metadata": {},
     "output_type": "execute_result"
    }
   ],
   "source": [
    "1+4"
   ]
  },
  {
   "cell_type": "code",
   "execution_count": 5,
   "id": "98a430b7",
   "metadata": {},
   "outputs": [
    {
     "data": {
      "text/plain": [
       "15"
      ]
     },
     "execution_count": 5,
     "metadata": {},
     "output_type": "execute_result"
    }
   ],
   "source": [
    "3*5"
   ]
  },
  {
   "cell_type": "code",
   "execution_count": 6,
   "id": "0fbb3ca0",
   "metadata": {},
   "outputs": [
    {
     "data": {
      "text/plain": [
       "4.666666666666667"
      ]
     },
     "execution_count": 6,
     "metadata": {},
     "output_type": "execute_result"
    }
   ],
   "source": [
    "14/3"
   ]
  },
  {
   "cell_type": "code",
   "execution_count": 7,
   "id": "73730bc3",
   "metadata": {},
   "outputs": [
    {
     "data": {
      "text/plain": [
       "16"
      ]
     },
     "execution_count": 7,
     "metadata": {},
     "output_type": "execute_result"
    }
   ],
   "source": [
    "2**4"
   ]
  },
  {
   "cell_type": "code",
   "execution_count": 8,
   "id": "917624c3",
   "metadata": {},
   "outputs": [
    {
     "data": {
      "text/plain": [
       "6.0"
      ]
     },
     "execution_count": 8,
     "metadata": {},
     "output_type": "execute_result"
    }
   ],
   "source": [
    "36**0.5"
   ]
  },
  {
   "cell_type": "code",
   "execution_count": 9,
   "id": "b4355f58",
   "metadata": {},
   "outputs": [
    {
     "data": {
      "text/plain": [
       "'abc abc abc abc abc '"
      ]
     },
     "execution_count": 9,
     "metadata": {},
     "output_type": "execute_result"
    }
   ],
   "source": [
    "5 * \"abc \""
   ]
  },
  {
   "cell_type": "code",
   "execution_count": 10,
   "id": "b9bde3fa",
   "metadata": {},
   "outputs": [],
   "source": [
    "# other operation will give error\n",
    "# TypeError: unsupported operand type(s) for /: 'int' and 'str'"
   ]
  },
  {
   "cell_type": "code",
   "execution_count": 11,
   "id": "e25f2ceb",
   "metadata": {},
   "outputs": [],
   "source": [
    "# Check Datatype "
   ]
  },
  {
   "cell_type": "code",
   "execution_count": 12,
   "id": "88a2374c",
   "metadata": {},
   "outputs": [
    {
     "data": {
      "text/plain": [
       "int"
      ]
     },
     "execution_count": 12,
     "metadata": {},
     "output_type": "execute_result"
    }
   ],
   "source": [
    "type(5)"
   ]
  },
  {
   "cell_type": "code",
   "execution_count": 13,
   "id": "4f468eaa",
   "metadata": {},
   "outputs": [
    {
     "data": {
      "text/plain": [
       "str"
      ]
     },
     "execution_count": 13,
     "metadata": {},
     "output_type": "execute_result"
    }
   ],
   "source": [
    "type(\"abc\")"
   ]
  },
  {
   "cell_type": "markdown",
   "id": "dfab8701",
   "metadata": {},
   "source": [
    "## String"
   ]
  },
  {
   "cell_type": "code",
   "execution_count": 14,
   "id": "6d310b30",
   "metadata": {},
   "outputs": [
    {
     "data": {
      "text/plain": [
       "'Hello Wolrd'"
      ]
     },
     "execution_count": 14,
     "metadata": {},
     "output_type": "execute_result"
    }
   ],
   "source": [
    "\"Hello Wolrd\""
   ]
  },
  {
   "cell_type": "code",
   "execution_count": 15,
   "id": "7972ed84",
   "metadata": {},
   "outputs": [
    {
     "data": {
      "text/plain": [
       "'Pankaj Singh'"
      ]
     },
     "execution_count": 15,
     "metadata": {},
     "output_type": "execute_result"
    }
   ],
   "source": [
    "'Pankaj Singh'"
   ]
  },
  {
   "cell_type": "code",
   "execution_count": 16,
   "id": "33b523cc",
   "metadata": {},
   "outputs": [
    {
     "data": {
      "text/plain": [
       "str"
      ]
     },
     "execution_count": 16,
     "metadata": {},
     "output_type": "execute_result"
    }
   ],
   "source": [
    "type(\"Pankaj\")"
   ]
  },
  {
   "cell_type": "code",
   "execution_count": 17,
   "id": "00a2586c",
   "metadata": {},
   "outputs": [
    {
     "name": "stdout",
     "output_type": "stream",
     "text": [
      "dlroW olleH\n"
     ]
    }
   ],
   "source": [
    "s = \"Hello World\"\n",
    "print(s[::-1])"
   ]
  },
  {
   "cell_type": "code",
   "execution_count": 18,
   "id": "f35be488",
   "metadata": {},
   "outputs": [],
   "source": [
    "s1 = \"Hello World\""
   ]
  },
  {
   "cell_type": "code",
   "execution_count": 19,
   "id": "26b02637",
   "metadata": {},
   "outputs": [
    {
     "data": {
      "text/plain": [
       "'HELLO WORLD'"
      ]
     },
     "execution_count": 19,
     "metadata": {},
     "output_type": "execute_result"
    }
   ],
   "source": [
    "s.upper()"
   ]
  },
  {
   "cell_type": "code",
   "execution_count": 20,
   "id": "a41087ef",
   "metadata": {},
   "outputs": [
    {
     "data": {
      "text/plain": [
       "'hello world'"
      ]
     },
     "execution_count": 20,
     "metadata": {},
     "output_type": "execute_result"
    }
   ],
   "source": [
    "s.lower()"
   ]
  },
  {
   "cell_type": "code",
   "execution_count": 21,
   "id": "1b365823",
   "metadata": {},
   "outputs": [
    {
     "data": {
      "text/plain": [
       "['Hello', 'World']"
      ]
     },
     "execution_count": 21,
     "metadata": {},
     "output_type": "execute_result"
    }
   ],
   "source": [
    "s.split()"
   ]
  },
  {
   "cell_type": "markdown",
   "id": "095c9694",
   "metadata": {},
   "source": [
    "# Variable Assignment"
   ]
  },
  {
   "cell_type": "code",
   "execution_count": 22,
   "id": "198cc835",
   "metadata": {},
   "outputs": [],
   "source": [
    "#Syntax\n",
    "# Variable_Name = Value"
   ]
  },
  {
   "cell_type": "code",
   "execution_count": 23,
   "id": "cdd4f9dd",
   "metadata": {},
   "outputs": [],
   "source": [
    "#Defining data type is not required in Python\n",
    "\n",
    "a = 5\n",
    "# int a = 5"
   ]
  },
  {
   "cell_type": "code",
   "execution_count": 24,
   "id": "3a1fff5f",
   "metadata": {},
   "outputs": [
    {
     "data": {
      "text/plain": [
       "int"
      ]
     },
     "execution_count": 24,
     "metadata": {},
     "output_type": "execute_result"
    }
   ],
   "source": [
    "type(a)"
   ]
  },
  {
   "cell_type": "code",
   "execution_count": 25,
   "id": "87f5672c",
   "metadata": {},
   "outputs": [
    {
     "data": {
      "text/plain": [
       "str"
      ]
     },
     "execution_count": 25,
     "metadata": {},
     "output_type": "execute_result"
    }
   ],
   "source": [
    "b = 'ABC'\n",
    "type(b)"
   ]
  },
  {
   "cell_type": "code",
   "execution_count": 26,
   "id": "028a8d38",
   "metadata": {},
   "outputs": [],
   "source": [
    "# Mathematical Operation with Variable assignment\n",
    "a = 10\n",
    "b = 5\n"
   ]
  },
  {
   "cell_type": "code",
   "execution_count": 27,
   "id": "21dee9fe",
   "metadata": {},
   "outputs": [
    {
     "name": "stdout",
     "output_type": "stream",
     "text": [
      "15\n",
      "5\n",
      "50\n",
      "2.0\n",
      "52.0\n"
     ]
    }
   ],
   "source": [
    "print(a+b)\n",
    "print(a-b)\n",
    "print(a*b)\n",
    "print(a/b)\n",
    "print((a*b)+(a/b))"
   ]
  },
  {
   "cell_type": "markdown",
   "id": "c7730cee",
   "metadata": {},
   "source": [
    "###  Various Ways of Printing"
   ]
  },
  {
   "cell_type": "code",
   "execution_count": 28,
   "id": "dade25f5",
   "metadata": {},
   "outputs": [
    {
     "name": "stdout",
     "output_type": "stream",
     "text": [
      "Hello\n"
     ]
    }
   ],
   "source": [
    "print(\"Hello\")"
   ]
  },
  {
   "cell_type": "code",
   "execution_count": 29,
   "id": "398669f7",
   "metadata": {},
   "outputs": [
    {
     "name": "stdout",
     "output_type": "stream",
     "text": [
      "My first Name is Pankaj and my Last name is Singh\n",
      "\n",
      " After replacing the position of variable \n",
      "\n",
      "My first Name is Singh and my Last name is Pankaj\n"
     ]
    }
   ],
   "source": [
    "first_name = \"Pankaj\"\n",
    "last_name = \"Singh\"\n",
    "print(\"My first Name is {} and my Last name is {}\".format(first_name, last_name))\n",
    "print('\\n After replacing the position of variable \\n')\n",
    "print(\"My first Name is {} and my Last name is {}\".format(last_name, first_name))"
   ]
  },
  {
   "cell_type": "code",
   "execution_count": 30,
   "id": "576472c2",
   "metadata": {},
   "outputs": [],
   "source": [
    "# To overcome this issue we can Use this format"
   ]
  },
  {
   "cell_type": "code",
   "execution_count": 31,
   "id": "1f22bbb3",
   "metadata": {},
   "outputs": [
    {
     "name": "stdout",
     "output_type": "stream",
     "text": [
      "My first name is Pankaj and my last name is Singh\n",
      "\n",
      " After replacing the position of variable \n",
      "\n",
      "My first name is Pankaj and my last name is Singh\n"
     ]
    }
   ],
   "source": [
    "print(\"My first name is {first} and my last name is {last}\".format(first=first_name, last=last_name))\n",
    "print('\\n After replacing the position of variable \\n')\n",
    "print(\"My first name is {first} and my last name is {last}\".format(last=last_name,first=first_name))"
   ]
  },
  {
   "cell_type": "code",
   "execution_count": 32,
   "id": "f9b3ffe0",
   "metadata": {},
   "outputs": [],
   "source": [
    "# we can f-formating also"
   ]
  },
  {
   "cell_type": "code",
   "execution_count": 34,
   "id": "4cc27e7e",
   "metadata": {},
   "outputs": [
    {
     "name": "stdout",
     "output_type": "stream",
     "text": [
      "My First Name is Pankaj and my last name is Singh\n"
     ]
    }
   ],
   "source": [
    "print(f'My First Name is {first_name} and my last name is {last_name}')"
   ]
  },
  {
   "cell_type": "code",
   "execution_count": null,
   "id": "ab2eaca5",
   "metadata": {},
   "outputs": [],
   "source": []
  }
 ],
 "metadata": {
  "kernelspec": {
   "display_name": "Python 3 (ipykernel)",
   "language": "python",
   "name": "python3"
  },
  "language_info": {
   "codemirror_mode": {
    "name": "ipython",
    "version": 3
   },
   "file_extension": ".py",
   "mimetype": "text/x-python",
   "name": "python",
   "nbconvert_exporter": "python",
   "pygments_lexer": "ipython3",
   "version": "3.9.13"
  }
 },
 "nbformat": 4,
 "nbformat_minor": 5
}
