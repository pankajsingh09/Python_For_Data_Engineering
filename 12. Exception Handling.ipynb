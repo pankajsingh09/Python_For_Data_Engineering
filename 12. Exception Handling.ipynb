{
 "cells": [
  {
   "cell_type": "markdown",
   "id": "03a1d68e",
   "metadata": {},
   "source": [
    "\n",
    "###  Diff B/W Error and Exception Handling"
   ]
  },
  {
   "cell_type": "markdown",
   "id": "86350dcc",
   "metadata": {},
   "source": [
    "Errors are usually caused by serious problems that are outside the control of the program, such as running out of memory or a system crash. Errors are represented by the Error class and its subclasses. Some common examples of errors in Java include:"
   ]
  },
  {
   "cell_type": "markdown",
   "id": "e69fe324",
   "metadata": {},
   "source": [
    "The error indicates a problem that mainly occurs due to the lack of system resources and our application should not catch these types of problems. Some of the examples of errors are system crash error and out of memory error. Errors mostly occur at runtime that's they belong to an unchecked type. \n",
    "\n",
    "Exceptions are the problems which can occur at runtime and compile time. It mainly occurs in the code written by the developers.  Exceptions are divided into two categories such as checked exceptions and unchecked exceptions. "
   ]
  },
  {
   "cell_type": "markdown",
   "id": "1bf9e43e",
   "metadata": {},
   "source": [
    "### Exceptions in Python"
   ]
  },
  {
   "cell_type": "code",
   "execution_count": 4,
   "id": "a53a0982",
   "metadata": {},
   "outputs": [],
   "source": [
    "try:\n",
    "    #code block where exception occurs\n",
    "    pass\n",
    "except:\n",
    "    # Catch the exception\n",
    "    pass"
   ]
  },
  {
   "cell_type": "code",
   "execution_count": 6,
   "id": "44306acb",
   "metadata": {},
   "outputs": [
    {
     "name": "stdout",
     "output_type": "stream",
     "text": [
      "Exception Occurs\n"
     ]
    }
   ],
   "source": [
    "# printing the custom exception\n",
    "try:\n",
    "    a+b\n",
    "except:\n",
    "    print(\"Exception Occurs\")"
   ]
  },
  {
   "cell_type": "code",
   "execution_count": 7,
   "id": "6fe01827",
   "metadata": {},
   "outputs": [
    {
     "name": "stdout",
     "output_type": "stream",
     "text": [
      "name 'a' is not defined\n"
     ]
    }
   ],
   "source": [
    "# printing the exception\n",
    "try:\n",
    "    a+b\n",
    "except Exception as ex:\n",
    "    print(ex)"
   ]
  },
  {
   "cell_type": "code",
   "execution_count": 9,
   "id": "4b621ee5",
   "metadata": {},
   "outputs": [
    {
     "name": "stdout",
     "output_type": "stream",
     "text": [
      "The variable is not defined\n"
     ]
    }
   ],
   "source": [
    "# printing the exception\n",
    "try:\n",
    "    a+b\n",
    "except NameError:\n",
    "    print(\"The variable is not defined\")\n",
    "except Exception as ex:\n",
    "    print(ex)"
   ]
  },
  {
   "cell_type": "markdown",
   "id": "d0b76845",
   "metadata": {},
   "source": [
    "#### Similary we can print the other Custom exceptions"
   ]
  },
  {
   "cell_type": "markdown",
   "id": "9935d8f1",
   "metadata": {},
   "source": [
    "### else block in Python"
   ]
  },
  {
   "cell_type": "code",
   "execution_count": 13,
   "id": "52ef64be",
   "metadata": {},
   "outputs": [
    {
     "name": "stdout",
     "output_type": "stream",
     "text": [
      "30\n",
      "The code is exected successfully\n"
     ]
    }
   ],
   "source": [
    "try:\n",
    "    a = 10\n",
    "    b = 20\n",
    "    \n",
    "except Exception as ex:\n",
    "    print(ex)\n",
    "else:\n",
    "    # if exception doesn't occur then else block will get executed and\n",
    "    # we can excess all the local variables from try block in else  block\n",
    "    print(a+b)\n",
    "    print(\"The code is exected successfully\")"
   ]
  },
  {
   "cell_type": "markdown",
   "id": "697ac827",
   "metadata": {},
   "source": [
    "### finaly block in python"
   ]
  },
  {
   "cell_type": "code",
   "execution_count": 16,
   "id": "0d41228e",
   "metadata": {},
   "outputs": [
    {
     "name": "stdout",
     "output_type": "stream",
     "text": [
      "30\n",
      "The code is exected successfully\n",
      "Finally block executed successfully\n"
     ]
    }
   ],
   "source": [
    "try:\n",
    "    a = 10\n",
    "    b = 20\n",
    "    \n",
    "except Exception as ex:\n",
    "    print(ex)\n",
    "else:\n",
    "    # if exception doesn't occur then else block will get executed and\n",
    "    # we can excess all the local variables from try block in else  block\n",
    "    print(a+b)\n",
    "    print(\"The code is exected successfully\")\n",
    "finally:\n",
    "    # finally block executed in all the cases i.e exception or no exception\n",
    "    print(\"Finally block executed successfully\")"
   ]
  },
  {
   "cell_type": "code",
   "execution_count": 1,
   "id": "814932e1",
   "metadata": {},
   "outputs": [
    {
     "name": "stdout",
     "output_type": "stream",
     "text": [
      "name 'a' is not defined\n",
      "Finally block executed successfully\n"
     ]
    }
   ],
   "source": [
    "try:\n",
    "    a+b\n",
    "    \n",
    "except Exception as ex:\n",
    "    print(ex)\n",
    "else:\n",
    "    # if exception doesn't occur then else block will get executed and\n",
    "    # we can excess all the local variables from try block in else  block\n",
    "    print(a+b)\n",
    "    print(\"The code is exected successfully\")\n",
    "finally:\n",
    "    # finally block executed in all the cases i.e exception or no exception\n",
    "    print(\"Finally block executed successfully\")"
   ]
  },
  {
   "cell_type": "markdown",
   "id": "7d1da970",
   "metadata": {},
   "source": [
    "## Custom exception"
   ]
  },
  {
   "cell_type": "code",
   "execution_count": 2,
   "id": "c1ee6129",
   "metadata": {},
   "outputs": [],
   "source": [
    "class Error(Exception):\n",
    "    pass\n",
    "\n",
    "class dobException(Error):\n",
    "    pass\n"
   ]
  },
  {
   "cell_type": "code",
   "execution_count": 4,
   "id": "fddad6eb",
   "metadata": {},
   "outputs": [
    {
     "name": "stdout",
     "output_type": "stream",
     "text": [
      "Enter your birth Year.1991\n",
      "you are not eligble\n"
     ]
    }
   ],
   "source": [
    "year = int(input(\"Enter your birth Year.\"))\n",
    "age = 2023-year\n",
    "\n",
    "try:\n",
    "    if age<=30 & age>=20:\n",
    "        print(\"You are eligible.\")\n",
    "    else:\n",
    "        raise dobException\n",
    "except dobException:\n",
    "    print(\"you are not eligble\")"
   ]
  },
  {
   "cell_type": "code",
   "execution_count": null,
   "id": "b3acabfe",
   "metadata": {},
   "outputs": [],
   "source": []
  }
 ],
 "metadata": {
  "kernelspec": {
   "display_name": "Python 3 (ipykernel)",
   "language": "python",
   "name": "python3"
  },
  "language_info": {
   "codemirror_mode": {
    "name": "ipython",
    "version": 3
   },
   "file_extension": ".py",
   "mimetype": "text/x-python",
   "name": "python",
   "nbconvert_exporter": "python",
   "pygments_lexer": "ipython3",
   "version": "3.9.13"
  }
 },
 "nbformat": 4,
 "nbformat_minor": 5
}
