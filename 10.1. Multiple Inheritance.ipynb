{
 "cells": [
  {
   "cell_type": "markdown",
   "id": "d4154cee",
   "metadata": {},
   "source": [
    "# Multiple Inheritance in Python"
   ]
  },
  {
   "cell_type": "code",
   "execution_count": 1,
   "id": "7476d5e6",
   "metadata": {},
   "outputs": [],
   "source": [
    "class A():\n",
    "    def method1(self):\n",
    "        print(\"A class method is called.\")"
   ]
  },
  {
   "cell_type": "code",
   "execution_count": 2,
   "id": "8874eec3",
   "metadata": {},
   "outputs": [],
   "source": [
    "class B(A):\n",
    "    def method1(self):\n",
    "        print(\"B class method is called.\")"
   ]
  },
  {
   "cell_type": "code",
   "execution_count": 3,
   "id": "22feab4e",
   "metadata": {},
   "outputs": [],
   "source": [
    "class C(A):\n",
    "    def method1(self):\n",
    "        print(\"C class method is called.\")"
   ]
  },
  {
   "cell_type": "code",
   "execution_count": 4,
   "id": "364fe2d3",
   "metadata": {},
   "outputs": [],
   "source": [
    "class D(C,B):\n",
    "    def method1(self):\n",
    "        print(\"D class method is called.\")"
   ]
  },
  {
   "cell_type": "code",
   "execution_count": 5,
   "id": "c3b0c368",
   "metadata": {},
   "outputs": [],
   "source": [
    "d = D()"
   ]
  },
  {
   "cell_type": "code",
   "execution_count": 6,
   "id": "2ef5a6cf",
   "metadata": {},
   "outputs": [
    {
     "name": "stdout",
     "output_type": "stream",
     "text": [
      "D class method is called.\n"
     ]
    }
   ],
   "source": [
    "d.method1()"
   ]
  },
  {
   "cell_type": "code",
   "execution_count": 7,
   "id": "ae33ca7c",
   "metadata": {},
   "outputs": [],
   "source": [
    "# Can we call the method1 of B and C class?"
   ]
  },
  {
   "cell_type": "code",
   "execution_count": 8,
   "id": "a9be2265",
   "metadata": {},
   "outputs": [
    {
     "name": "stdout",
     "output_type": "stream",
     "text": [
      "C class method is called.\n"
     ]
    }
   ],
   "source": [
    "C.method1(d)"
   ]
  },
  {
   "cell_type": "code",
   "execution_count": 9,
   "id": "0abe54e1",
   "metadata": {},
   "outputs": [
    {
     "name": "stdout",
     "output_type": "stream",
     "text": [
      "B class method is called.\n"
     ]
    }
   ],
   "source": [
    "B.method1(d)"
   ]
  },
  {
   "cell_type": "code",
   "execution_count": 10,
   "id": "db5b0fb4",
   "metadata": {},
   "outputs": [],
   "source": [
    "# Can we call the method1 of A class?"
   ]
  },
  {
   "cell_type": "code",
   "execution_count": 11,
   "id": "fe57e292",
   "metadata": {},
   "outputs": [
    {
     "name": "stdout",
     "output_type": "stream",
     "text": [
      "A class method is called.\n"
     ]
    }
   ],
   "source": [
    "A.method1(d)"
   ]
  },
  {
   "cell_type": "markdown",
   "id": "6d117a6f",
   "metadata": {},
   "source": [
    "### Can I call them directly with D class method?"
   ]
  },
  {
   "cell_type": "code",
   "execution_count": 12,
   "id": "419ab7b0",
   "metadata": {},
   "outputs": [],
   "source": [
    "class E(D):\n",
    "    def method1(self):\n",
    "        print(\"E class method is called.\")\n",
    "        A.method1(self)\n",
    "        B.method1(self)\n",
    "        C.method1(self)\n",
    "        D.method1(self)"
   ]
  },
  {
   "cell_type": "code",
   "execution_count": 13,
   "id": "0ff573f0",
   "metadata": {},
   "outputs": [],
   "source": [
    "e = E()"
   ]
  },
  {
   "cell_type": "code",
   "execution_count": 14,
   "id": "a560878e",
   "metadata": {},
   "outputs": [
    {
     "name": "stdout",
     "output_type": "stream",
     "text": [
      "E class method is called.\n",
      "A class method is called.\n",
      "B class method is called.\n",
      "C class method is called.\n",
      "D class method is called.\n"
     ]
    }
   ],
   "source": [
    "e.method1()"
   ]
  },
  {
   "cell_type": "code",
   "execution_count": null,
   "id": "5d7bf952",
   "metadata": {},
   "outputs": [],
   "source": []
  }
 ],
 "metadata": {
  "kernelspec": {
   "display_name": "Python 3 (ipykernel)",
   "language": "python",
   "name": "python3"
  },
  "language_info": {
   "codemirror_mode": {
    "name": "ipython",
    "version": 3
   },
   "file_extension": ".py",
   "mimetype": "text/x-python",
   "name": "python",
   "nbconvert_exporter": "python",
   "pygments_lexer": "ipython3",
   "version": "3.9.13"
  }
 },
 "nbformat": 4,
 "nbformat_minor": 5
}
