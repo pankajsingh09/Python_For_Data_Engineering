{
 "cells": [
  {
   "cell_type": "markdown",
   "id": "98ba897a",
   "metadata": {},
   "source": [
    "# Object Oriented Programming\n"
   ]
  },
  {
   "cell_type": "markdown",
   "id": "f9a69673",
   "metadata": {},
   "source": [
    "**In Python, object-oriented Programming (OOPs) is a programming paradigm that uses objects and classes in programming. It aims to implement real-world entities like inheritance, polymorphisms, encapsulation, etc. in the programming. The main concept of OOPs is to bind the data and the functions that work on that together as a single unit so that no other part of the code can access this data.**\n",
    "\n",
    "Main Concepts of Object-Oriented Programming (OOPs) \n",
    "1. Class\n",
    "2. Objects\n",
    "3. Polymorphism\n",
    "4. Encapsulation\n",
    "5. Inheritance\n",
    "6. Data Abstraction"
   ]
  },
  {
   "cell_type": "markdown",
   "id": "0ad384d1",
   "metadata": {},
   "source": [
    "## class\n",
    "User defined objects are created using the <code>class</code> keyword. The class is a blueprint that defines the nature of a future object. From classes we can construct instances. An instance is a specific object created from a particular class. For example, above we created the object <code>lst</code> which was an instance of a list object. \n",
    "\n",
    "Let see how we can use <code>class</code>:"
   ]
  },
  {
   "cell_type": "code",
   "execution_count": 27,
   "id": "6dd6827a",
   "metadata": {},
   "outputs": [],
   "source": [
    "class Car:\n",
    "    def __init__ (self, window, door, enginetype):\n",
    "        self.windows = window\n",
    "        self.doors = door\n",
    "        self.enginetype = enginetype\n",
    "    def car_type(self):\n",
    "        return f\"This is a {self.enginetype} car\""
   ]
  },
  {
   "cell_type": "code",
   "execution_count": 28,
   "id": "d7c7e2dd",
   "metadata": {},
   "outputs": [],
   "source": [
    "car1 = Car(5,4,'Petrol')"
   ]
  },
  {
   "cell_type": "code",
   "execution_count": 29,
   "id": "65e9beda",
   "metadata": {},
   "outputs": [
    {
     "data": {
      "text/plain": [
       "5"
      ]
     },
     "execution_count": 29,
     "metadata": {},
     "output_type": "execute_result"
    }
   ],
   "source": [
    "car1.windows"
   ]
  },
  {
   "cell_type": "code",
   "execution_count": 30,
   "id": "93edbacb",
   "metadata": {},
   "outputs": [
    {
     "data": {
      "text/plain": [
       "4"
      ]
     },
     "execution_count": 30,
     "metadata": {},
     "output_type": "execute_result"
    }
   ],
   "source": [
    "car1.doors"
   ]
  },
  {
   "cell_type": "code",
   "execution_count": 31,
   "id": "f4dc5a91",
   "metadata": {},
   "outputs": [
    {
     "data": {
      "text/plain": [
       "'Petrol'"
      ]
     },
     "execution_count": 31,
     "metadata": {},
     "output_type": "execute_result"
    }
   ],
   "source": [
    "car1.enginetype"
   ]
  },
  {
   "cell_type": "code",
   "execution_count": 32,
   "id": "34a3bb94",
   "metadata": {},
   "outputs": [
    {
     "data": {
      "text/plain": [
       "'This is a Petrol car'"
      ]
     },
     "execution_count": 32,
     "metadata": {},
     "output_type": "execute_result"
    }
   ],
   "source": [
    "car1.car_type()"
   ]
  },
  {
   "cell_type": "markdown",
   "id": "4aa95751",
   "metadata": {},
   "source": [
    "# Learning in More Depth"
   ]
  },
  {
   "cell_type": "code",
   "execution_count": 33,
   "id": "ba92a27e",
   "metadata": {},
   "outputs": [
    {
     "name": "stdout",
     "output_type": "stream",
     "text": [
      "<class '__main__.Sample'>\n"
     ]
    }
   ],
   "source": [
    "# Create a new object type called Sample\n",
    "class Sample:\n",
    "    pass\n",
    "\n",
    "# Instance of Sample\n",
    "x = Sample()\n",
    "\n",
    "print(type(x))"
   ]
  },
  {
   "cell_type": "markdown",
   "id": "8733807c",
   "metadata": {},
   "source": [
    "By convention we give classes a name that starts with a capital letter. Note how <code>x</code> is now the reference to our new instance of a Sample class. In other words, we **instantiate** the Sample class.\n",
    "\n",
    "Inside of the class we currently just have pass. But we can define class attributes and methods.\n",
    "\n",
    "An **attribute** is a characteristic of an object.\n",
    "A **method** is an operation we can perform with the object.\n",
    "\n",
    "For example, we can create a class called Dog. An attribute of a dog may be its breed or its name, while a method of a dog may be defined by a .bark() method which returns a sound.\n",
    "\n",
    "Let's get a better understanding of attributes through an example.\n",
    "\n",
    "## Attributes\n",
    "The syntax for creating an attribute is:\n",
    "    \n",
    "    self.attribute = something\n",
    "    \n",
    "There is a special method called:\n",
    "\n",
    "    __init__()\n",
    "\n",
    "This method is used to initialize the attributes of an object. For example:"
   ]
  },
  {
   "cell_type": "code",
   "execution_count": 34,
   "id": "88515050",
   "metadata": {},
   "outputs": [],
   "source": [
    "class Dog:\n",
    "    def __init__(self,breed):\n",
    "        self.breed = breed\n",
    "        \n",
    "sam = Dog(breed='Lab')\n",
    "frank = Dog(breed='Huskie')"
   ]
  },
  {
   "cell_type": "markdown",
   "id": "3b1f2e28",
   "metadata": {},
   "source": [
    "Lets break down what we have above.The special method \n",
    "\n",
    "    __init__() \n",
    "is called automatically right after the object has been created:\n",
    "\n",
    "    def __init__(self, breed):\n",
    "Each attribute in a class definition begins with a reference to the instance object. It is by convention named self. The breed is the argument. The value is passed during the class instantiation.\n",
    "\n",
    "     self.breed = breed"
   ]
  },
  {
   "cell_type": "markdown",
   "id": "b411b941",
   "metadata": {},
   "source": [
    "Now we have created two instances of the Dog class. With two breed types, we can then access these attributes like this:"
   ]
  },
  {
   "cell_type": "code",
   "execution_count": 35,
   "id": "713843ec",
   "metadata": {},
   "outputs": [
    {
     "data": {
      "text/plain": [
       "'Lab'"
      ]
     },
     "execution_count": 35,
     "metadata": {},
     "output_type": "execute_result"
    }
   ],
   "source": [
    "sam.breed"
   ]
  },
  {
   "cell_type": "code",
   "execution_count": 36,
   "id": "9f62e9e4",
   "metadata": {},
   "outputs": [
    {
     "data": {
      "text/plain": [
       "'Huskie'"
      ]
     },
     "execution_count": 36,
     "metadata": {},
     "output_type": "execute_result"
    }
   ],
   "source": [
    "frank.breed"
   ]
  },
  {
   "cell_type": "markdown",
   "id": "0f24af64",
   "metadata": {},
   "source": [
    "Note how we don't have any parentheses after breed; this is because it is an attribute and doesn't take any arguments.\n",
    "\n",
    "In Python there are also *class object attributes*. These Class Object Attributes are the same for any instance of the class. For example, we could create the attribute *species* for the Dog class. Dogs, regardless of their breed, name, or other attributes, will always be mammals. We apply this logic in the following manner:"
   ]
  },
  {
   "cell_type": "code",
   "execution_count": 37,
   "id": "b99300b4",
   "metadata": {},
   "outputs": [],
   "source": [
    "class Dog:\n",
    "    \n",
    "    # Class Object Attribute\n",
    "    species = 'mammal'\n",
    "    \n",
    "    def __init__(self,breed,name):\n",
    "        self.breed = breed\n",
    "        self.name = name"
   ]
  },
  {
   "cell_type": "code",
   "execution_count": 38,
   "id": "351e65c7",
   "metadata": {},
   "outputs": [],
   "source": [
    "sam = Dog('Lab','Sam')"
   ]
  },
  {
   "cell_type": "code",
   "execution_count": 39,
   "id": "8f79582e",
   "metadata": {},
   "outputs": [
    {
     "data": {
      "text/plain": [
       "'Sam'"
      ]
     },
     "execution_count": 39,
     "metadata": {},
     "output_type": "execute_result"
    }
   ],
   "source": [
    "sam.name"
   ]
  },
  {
   "cell_type": "markdown",
   "id": "8f328be2",
   "metadata": {},
   "source": [
    "Note that the Class Object Attribute is defined outside of any methods in the class. Also by convention, we place them first before the init."
   ]
  },
  {
   "cell_type": "code",
   "execution_count": 40,
   "id": "a7c9b149",
   "metadata": {},
   "outputs": [
    {
     "data": {
      "text/plain": [
       "'mammal'"
      ]
     },
     "execution_count": 40,
     "metadata": {},
     "output_type": "execute_result"
    }
   ],
   "source": [
    "sam.species"
   ]
  },
  {
   "cell_type": "markdown",
   "id": "830e096e",
   "metadata": {},
   "source": [
    "## Methods\n",
    "\n",
    "Methods are functions defined inside the body of a class. They are used to perform operations with the attributes of our objects. Methods are a key concept of the OOP paradigm. They are essential to dividing responsibilities in programming, especially in large applications.\n",
    "\n",
    "You can basically think of methods as functions acting on an Object that take the Object itself into account through its *self* argument.\n",
    "\n",
    "Let's go through an example of creating a Circle class:"
   ]
  },
  {
   "cell_type": "code",
   "execution_count": 41,
   "id": "adeda35f",
   "metadata": {},
   "outputs": [
    {
     "name": "stdout",
     "output_type": "stream",
     "text": [
      "Radius is:  1\n",
      "Area is:  3.14\n",
      "Circumference is:  6.28\n"
     ]
    }
   ],
   "source": [
    "class Circle:\n",
    "    pi = 3.14\n",
    "\n",
    "    # Circle gets instantiated with a radius (default is 1)\n",
    "    def __init__(self, radius=1):\n",
    "        self.radius = radius \n",
    "        self.area = radius * radius * Circle.pi\n",
    "\n",
    "    # Method for resetting Radius\n",
    "    def setRadius(self, new_radius):\n",
    "        self.radius = new_radius\n",
    "        self.area = new_radius * new_radius * self.pi\n",
    "\n",
    "    # Method for getting Circumference\n",
    "    def getCircumference(self):\n",
    "        return self.radius * self.pi * 2\n",
    "\n",
    "\n",
    "c = Circle()\n",
    "\n",
    "print('Radius is: ',c.radius)\n",
    "print('Area is: ',c.area)\n",
    "print('Circumference is: ',c.getCircumference())"
   ]
  },
  {
   "cell_type": "markdown",
   "id": "94c4eb84",
   "metadata": {},
   "source": [
    "In the \\__init__ method above, in order to calculate the area attribute, we had to call Circle.pi. This is because the object does not yet have its own .pi attribute, so we call the Class Object Attribute pi instead.<br>\n",
    "In the setRadius method, however, we'll be working with an existing Circle object that does have its own pi attribute. Here we can use either Circle.pi or self.pi.<br><br>\n",
    "Now let's change the radius and see how that affects our Circle object:"
   ]
  },
  {
   "cell_type": "code",
   "execution_count": 42,
   "id": "e8f2cc05",
   "metadata": {},
   "outputs": [
    {
     "name": "stdout",
     "output_type": "stream",
     "text": [
      "Radius is:  2\n",
      "Area is:  12.56\n",
      "Circumference is:  12.56\n"
     ]
    }
   ],
   "source": [
    "c.setRadius(2)\n",
    "\n",
    "print('Radius is: ',c.radius)\n",
    "print('Area is: ',c.area)\n",
    "print('Circumference is: ',c.getCircumference())"
   ]
  },
  {
   "cell_type": "code",
   "execution_count": null,
   "id": "1d7be94a",
   "metadata": {},
   "outputs": [],
   "source": []
  }
 ],
 "metadata": {
  "kernelspec": {
   "display_name": "Python 3 (ipykernel)",
   "language": "python",
   "name": "python3"
  },
  "language_info": {
   "codemirror_mode": {
    "name": "ipython",
    "version": 3
   },
   "file_extension": ".py",
   "mimetype": "text/x-python",
   "name": "python",
   "nbconvert_exporter": "python",
   "pygments_lexer": "ipython3",
   "version": "3.9.13"
  }
 },
 "nbformat": 4,
 "nbformat_minor": 5
}
