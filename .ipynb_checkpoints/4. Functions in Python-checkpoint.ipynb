{
 "cells": [
  {
   "cell_type": "markdown",
   "id": "e70c3f01",
   "metadata": {},
   "source": [
    "## Functions in Python\n",
    "- Why Functions\n",
    "- Function Definition\n",
    "- Positional and Keyword Argument "
   ]
  },
  {
   "cell_type": "markdown",
   "id": "f0963d97",
   "metadata": {},
   "source": [
    "### A function is a set of statements that take inputs, do some specific computation and produces output. These functions are called user defined function"
   ]
  },
  {
   "cell_type": "code",
   "execution_count": 1,
   "id": "e3b37f8a",
   "metadata": {},
   "outputs": [],
   "source": [
    "def odd_even(num):\n",
    "    if num%2==0:\n",
    "        print(\"Even Number\")\n",
    "    else:\n",
    "        print(\"Odd Number\")"
   ]
  },
  {
   "cell_type": "code",
   "execution_count": 2,
   "id": "1b91ee9d",
   "metadata": {},
   "outputs": [
    {
     "name": "stdout",
     "output_type": "stream",
     "text": [
      "Odd Number\n"
     ]
    }
   ],
   "source": [
    "odd_even(23)"
   ]
  },
  {
   "cell_type": "code",
   "execution_count": 3,
   "id": "dd5e6a8c",
   "metadata": {},
   "outputs": [
    {
     "name": "stdout",
     "output_type": "stream",
     "text": [
      "Even Number\n"
     ]
    }
   ],
   "source": [
    "odd_even(32)"
   ]
  },
  {
   "cell_type": "code",
   "execution_count": 4,
   "id": "12743748",
   "metadata": {},
   "outputs": [],
   "source": [
    "# return vs print\n",
    "# print will not return anything, whereas return will return the value after function executions\n",
    "\n",
    "def hello_world():\n",
    "    print(\"Hello Wolrd\")"
   ]
  },
  {
   "cell_type": "code",
   "execution_count": 5,
   "id": "81fbf811",
   "metadata": {},
   "outputs": [
    {
     "name": "stdout",
     "output_type": "stream",
     "text": [
      "Hello Wolrd\n"
     ]
    }
   ],
   "source": [
    "val = hello_world()"
   ]
  },
  {
   "cell_type": "code",
   "execution_count": 6,
   "id": "44219870",
   "metadata": {},
   "outputs": [
    {
     "name": "stdout",
     "output_type": "stream",
     "text": [
      "None\n"
     ]
    }
   ],
   "source": [
    "print(val)"
   ]
  },
  {
   "cell_type": "code",
   "execution_count": 10,
   "id": "19ef180a",
   "metadata": {},
   "outputs": [],
   "source": [
    "def hello_world1():\n",
    "    return \"Hello Wolrd 1\"\n"
   ]
  },
  {
   "cell_type": "code",
   "execution_count": 11,
   "id": "cfff6fe9",
   "metadata": {},
   "outputs": [],
   "source": [
    "val1 = hello_world1()"
   ]
  },
  {
   "cell_type": "code",
   "execution_count": 12,
   "id": "4526e3fa",
   "metadata": {},
   "outputs": [
    {
     "name": "stdout",
     "output_type": "stream",
     "text": [
      "Hello Wolrd 1\n"
     ]
    }
   ],
   "source": [
    "print(val1)"
   ]
  },
  {
   "cell_type": "code",
   "execution_count": 14,
   "id": "ff80d832",
   "metadata": {},
   "outputs": [],
   "source": [
    "## positional argument -> name\n",
    "## keyword argument -> age\n",
    "\n",
    "def hello(name,age=21):\n",
    "    print(\"My Name is {} and my age is {}\".format(name,age))\n",
    "    "
   ]
  },
  {
   "cell_type": "code",
   "execution_count": 15,
   "id": "d61c7fdf",
   "metadata": {},
   "outputs": [
    {
     "name": "stdout",
     "output_type": "stream",
     "text": [
      "My Name is Pankaj Singh and my age is 21\n"
     ]
    }
   ],
   "source": [
    "hello(\"Pankaj Singh\")"
   ]
  },
  {
   "cell_type": "code",
   "execution_count": 16,
   "id": "acd3f235",
   "metadata": {},
   "outputs": [
    {
     "name": "stdout",
     "output_type": "stream",
     "text": [
      "My Name is Ghugtyal and my age is 23\n"
     ]
    }
   ],
   "source": [
    "hello(\"Ghugtyal\",23)"
   ]
  },
  {
   "cell_type": "code",
   "execution_count": 17,
   "id": "9f84d9b4",
   "metadata": {},
   "outputs": [],
   "source": [
    "def hello1(*args, **kwargs):\n",
    "    print(args)\n",
    "    print(kwargs)"
   ]
  },
  {
   "cell_type": "code",
   "execution_count": 18,
   "id": "f4018711",
   "metadata": {},
   "outputs": [
    {
     "name": "stdout",
     "output_type": "stream",
     "text": [
      "('Pankaj', 'Singh')\n",
      "{'age': 21, 'dob': 2001}\n"
     ]
    }
   ],
   "source": [
    "hello1(\"Pankaj\", \"Singh\", age=21, dob=2001)"
   ]
  },
  {
   "cell_type": "code",
   "execution_count": 19,
   "id": "cc82996b",
   "metadata": {},
   "outputs": [
    {
     "name": "stdout",
     "output_type": "stream",
     "text": [
      "('Pankaj', 'Singh', 21, 2001)\n",
      "{}\n"
     ]
    }
   ],
   "source": [
    "hello1(\"Pankaj\", \"Singh\", 21, 2001)"
   ]
  },
  {
   "cell_type": "code",
   "execution_count": 20,
   "id": "9fb17d40",
   "metadata": {},
   "outputs": [
    {
     "name": "stdout",
     "output_type": "stream",
     "text": [
      "(['Pankaj', 'Singh'], {'age': 21, 'dob': 2001})\n",
      "{}\n"
     ]
    }
   ],
   "source": [
    "val1= ['Pankaj', 'Singh']\n",
    "val2= {'age': 21, 'dob': 2001}\n",
    "hello1(val1,val2)"
   ]
  },
  {
   "cell_type": "code",
   "execution_count": 21,
   "id": "994acbc3",
   "metadata": {},
   "outputs": [
    {
     "name": "stdout",
     "output_type": "stream",
     "text": [
      "('Pankaj', 'Singh')\n",
      "{'age': 21, 'dob': 2001}\n"
     ]
    }
   ],
   "source": [
    "hello1(*val1, **val2)"
   ]
  },
  {
   "cell_type": "code",
   "execution_count": 26,
   "id": "f8fd305b",
   "metadata": {},
   "outputs": [],
   "source": [
    "lst= [1,2,3,4,5,6,7]"
   ]
  },
  {
   "cell_type": "code",
   "execution_count": 22,
   "id": "131e81b0",
   "metadata": {},
   "outputs": [],
   "source": [
    "def evenOddSum(lst):\n",
    "    even_sum=0\n",
    "    odd_sum=0\n",
    "    for i in lst:\n",
    "        if i%2==0:\n",
    "            even_sum=even_sum+i\n",
    "        else:\n",
    "            odd_sum=odd_sum+i\n",
    "    return even_sum, odd_sum"
   ]
  },
  {
   "cell_type": "code",
   "execution_count": 27,
   "id": "1e01cc4f",
   "metadata": {},
   "outputs": [
    {
     "data": {
      "text/plain": [
       "(12, 16)"
      ]
     },
     "execution_count": 27,
     "metadata": {},
     "output_type": "execute_result"
    }
   ],
   "source": [
    "evenOddSum(lst)"
   ]
  },
  {
   "cell_type": "code",
   "execution_count": null,
   "id": "cc6b9b19",
   "metadata": {},
   "outputs": [],
   "source": []
  }
 ],
 "metadata": {
  "kernelspec": {
   "display_name": "Python 3 (ipykernel)",
   "language": "python",
   "name": "python3"
  },
  "language_info": {
   "codemirror_mode": {
    "name": "ipython",
    "version": 3
   },
   "file_extension": ".py",
   "mimetype": "text/x-python",
   "name": "python",
   "nbconvert_exporter": "python",
   "pygments_lexer": "ipython3",
   "version": "3.9.13"
  }
 },
 "nbformat": 4,
 "nbformat_minor": 5
}
