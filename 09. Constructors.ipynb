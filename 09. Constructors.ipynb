{
 "cells": [
  {
   "cell_type": "markdown",
   "id": "23fb5824",
   "metadata": {},
   "source": [
    "# Multiple Constructors in Python"
   ]
  },
  {
   "cell_type": "markdown",
   "id": "124a8b9f",
   "metadata": {},
   "source": [
    "## Does Python Support multiple Constructors?"
   ]
  },
  {
   "cell_type": "markdown",
   "id": "6889fcc8",
   "metadata": {},
   "source": [
    " Ans. Python does not support explicit multiple constructors, yet there are some ways using which multiple constructors can be achieved. If multiple __init__ methods are written for the same class, then the latest one overwrites all the previous constructors and the reason for this can be, python stores all the function names in a class as key in a dictionary so, when a new function is defined with the same name, the key remains the same but the value gets overridden by the new function body."
   ]
  },
  {
   "cell_type": "code",
   "execution_count": 4,
   "id": "635285df",
   "metadata": {},
   "outputs": [],
   "source": [
    "class Animal:\n",
    "    \n",
    "    def __init___ (self,name,age):\n",
    "        self.name=name\n",
    "        self.age=age\n",
    "    def __init__ (self, name, age, color):\n",
    "        self.name = name\n",
    "        self.age = age\n",
    "        self.color = color\n",
    "    def myDog():\n",
    "        return f\"My Animal name is {self.name}, age is {self.age} and color is {self.color}\"\n",
    "    \n",
    "    "
   ]
  },
  {
   "cell_type": "code",
   "execution_count": 5,
   "id": "287749aa",
   "metadata": {},
   "outputs": [
    {
     "ename": "TypeError",
     "evalue": "__init__() missing 1 required positional argument: 'color'",
     "output_type": "error",
     "traceback": [
      "\u001b[1;31m---------------------------------------------------------------------------\u001b[0m",
      "\u001b[1;31mTypeError\u001b[0m                                 Traceback (most recent call last)",
      "Cell \u001b[1;32mIn [5], line 1\u001b[0m\n\u001b[1;32m----> 1\u001b[0m Dog \u001b[38;5;241m=\u001b[39m Animal(\u001b[38;5;124m\"\u001b[39m\u001b[38;5;124mDog\u001b[39m\u001b[38;5;124m\"\u001b[39m, \u001b[38;5;241m12\u001b[39m)\n",
      "\u001b[1;31mTypeError\u001b[0m: __init__() missing 1 required positional argument: 'color'"
     ]
    }
   ],
   "source": [
    "Dog = Animal(\"Dog\", 12)"
   ]
  },
  {
   "cell_type": "code",
   "execution_count": 6,
   "id": "b7d9e0a2",
   "metadata": {},
   "outputs": [],
   "source": [
    "# This error occurs because the last constructor override all the previous Constructors"
   ]
  },
  {
   "cell_type": "markdown",
   "id": "82bd9d31",
   "metadata": {},
   "source": [
    "### To Overcome this Issue we can use Nested if else inside the \\__init__ "
   ]
  },
  {
   "cell_type": "code",
   "execution_count": 35,
   "id": "0e684ef0",
   "metadata": {},
   "outputs": [],
   "source": [
    "class Animal:\n",
    "    \n",
    "    def __init__ (self,*args):\n",
    "        if len(args)==1:\n",
    "            self.name=args[0]\n",
    "        elif len(args)==2:\n",
    "            self.name=args[0]\n",
    "            self.age=args[1]\n",
    "        elif len(args)==3:\n",
    "            self.name = args[0]\n",
    "            self.age = args[1]\n",
    "            self.color = args[2]\n",
    "            \n",
    "    def myDog(self):\n",
    "        return f\"My Animal name is {self.name}, age is {self.age} and color is {self.color}\""
   ]
  },
  {
   "cell_type": "code",
   "execution_count": 30,
   "id": "250d8723",
   "metadata": {},
   "outputs": [
    {
     "name": "stdout",
     "output_type": "stream",
     "text": [
      "Dog\n",
      "12\n"
     ]
    }
   ],
   "source": [
    "dog = Animal(\"Dog\",12)\n",
    "print(dog.name)\n",
    "print(dog.age)"
   ]
  },
  {
   "cell_type": "code",
   "execution_count": 37,
   "id": "ae37bbed",
   "metadata": {},
   "outputs": [
    {
     "name": "stdout",
     "output_type": "stream",
     "text": [
      "Dog\n",
      "12\n",
      "Black\n",
      "My Animal name is Dog, age is 12 and color is Black\n"
     ]
    }
   ],
   "source": [
    "dog = Animal(\"Dog\",12,\"Black\")\n",
    "print(dog.name)\n",
    "print(dog.age)\n",
    "print(dog.color)\n",
    "print(dog.myDog())"
   ]
  },
  {
   "cell_type": "markdown",
   "id": "5469d99a",
   "metadata": {},
   "source": [
    "#### But this approach is not considered as a good practice."
   ]
  },
  {
   "cell_type": "markdown",
   "id": "675cba8b",
   "metadata": {},
   "source": [
    "### **kwargs"
   ]
  },
  {
   "cell_type": "code",
   "execution_count": 50,
   "id": "1569148a",
   "metadata": {},
   "outputs": [],
   "source": [
    "class Animal:\n",
    "    \n",
    "    def __init__ (self,**kwargs):\n",
    "        if len(kwargs) == 1:\n",
    "            self.name = kwargs['name']\n",
    "        elif len(kwargs) == 2:\n",
    "            self.name = kwargs['name']\n",
    "            self.age = kwargs['age']\n",
    "        elif len(kwargs) == 3:\n",
    "            self.name = kwargs['name']\n",
    "            self.age = kwargs['age']\n",
    "            self.color = kwargs['color']\n",
    "            \n",
    "    def myAnimal(self):\n",
    "        return f\"My Animal name is {self.name}, age is {self.age} and color is {self.color}\""
   ]
  },
  {
   "cell_type": "code",
   "execution_count": 51,
   "id": "ca23cc69",
   "metadata": {},
   "outputs": [],
   "source": [
    "cat = Animal(name=\"Cat\",age=4,color=\"white\")"
   ]
  },
  {
   "cell_type": "code",
   "execution_count": 54,
   "id": "5591936e",
   "metadata": {},
   "outputs": [
    {
     "name": "stdout",
     "output_type": "stream",
     "text": [
      "My Animal name is Cat, age is 4 and color is white\n"
     ]
    }
   ],
   "source": [
    "print(cat.myAnimal())"
   ]
  },
  {
   "cell_type": "code",
   "execution_count": null,
   "id": "a5967a3c",
   "metadata": {},
   "outputs": [],
   "source": []
  }
 ],
 "metadata": {
  "kernelspec": {
   "display_name": "Python 3 (ipykernel)",
   "language": "python",
   "name": "python3"
  },
  "language_info": {
   "codemirror_mode": {
    "name": "ipython",
    "version": 3
   },
   "file_extension": ".py",
   "mimetype": "text/x-python",
   "name": "python",
   "nbconvert_exporter": "python",
   "pygments_lexer": "ipython3",
   "version": "3.9.13"
  }
 },
 "nbformat": 4,
 "nbformat_minor": 5
}
