{
 "cells": [
  {
   "cell_type": "code",
   "execution_count": 46,
   "id": "3602bf74",
   "metadata": {},
   "outputs": [],
   "source": [
    "def twoSum(nums, target):\n",
    "        \"\"\"\n",
    "        :type nums: List[int]\n",
    "        :type target: int\n",
    "        :rtype: List[int]\n",
    "        \"\"\"\n",
    "\n",
    "        \n",
    "        \n",
    "        first=-1\n",
    "        second=-1\n",
    "        flag= False\n",
    "\n",
    "        for i in range(len(nums)):\n",
    "            j = i+1\n",
    "            first= i \n",
    "            while j < len(nums):\n",
    "                s = target - nums[i]\n",
    "                second = j\n",
    "                print(i,j,s, nums[j])\n",
    "                if nums[j] == s:\n",
    "                    flag = True\n",
    "                    break\n",
    "                j = j+1\n",
    "            if flag:\n",
    "                break\n",
    "                    \n",
    "        l = []\n",
    "        l.append(first)\n",
    "        l.append(second)\n",
    "        return l"
   ]
  },
  {
   "cell_type": "code",
   "execution_count": 47,
   "id": "ea53635e",
   "metadata": {},
   "outputs": [
    {
     "name": "stdout",
     "output_type": "stream",
     "text": [
      "0 1 3 2 3\n",
      "0 2 3 4 3\n"
     ]
    },
    {
     "data": {
      "text/plain": [
       "[0, 2]"
      ]
     },
     "execution_count": 47,
     "metadata": {},
     "output_type": "execute_result"
    }
   ],
   "source": [
    "l = [3,2,4]\n",
    "target= 6\n",
    "twoSum(l,target)"
   ]
  },
  {
   "cell_type": "code",
   "execution_count": 77,
   "id": "fdef5afc",
   "metadata": {},
   "outputs": [],
   "source": [
    "def twoSum1(nums, target):\n",
    "        \"\"\"\n",
    "        :type nums: List[int]\n",
    "        :type target: int\n",
    "        :rtype: List[int]\n",
    "        \"\"\"\n",
    "\n",
    "        \n",
    "        first=-1\n",
    "        second=-1\n",
    "        flag= False\n",
    "\n",
    "        for i in range(len(nums)):\n",
    "            j = i+1\n",
    "            first= i \n",
    "            while j < len(nums):\n",
    "                s = target - nums[i]\n",
    "                second = j\n",
    "                print(i,j,s, nums[j])\n",
    "                if nums[j] == s:\n",
    "                    flag = True\n",
    "                    break\n",
    "                j = j+1\n",
    "            if flag:\n",
    "                break\n",
    "                    \n",
    "        l = []\n",
    "        l.append(first)\n",
    "        l.append(second)\n",
    "        return l"
   ]
  },
  {
   "cell_type": "code",
   "execution_count": 80,
   "id": "54272667",
   "metadata": {},
   "outputs": [
    {
     "name": "stdout",
     "output_type": "stream",
     "text": [
      "0 1 3 3\n"
     ]
    },
    {
     "data": {
      "text/plain": [
       "[0, 1]"
      ]
     },
     "execution_count": 80,
     "metadata": {},
     "output_type": "execute_result"
    }
   ],
   "source": [
    "l = [3,3]\n",
    "target= 6\n",
    "twoSum1(l,target)"
   ]
  },
  {
   "cell_type": "code",
   "execution_count": null,
   "id": "c60c1217",
   "metadata": {},
   "outputs": [],
   "source": []
  },
  {
   "cell_type": "code",
   "execution_count": null,
   "id": "ae9a0062",
   "metadata": {},
   "outputs": [],
   "source": []
  }
 ],
 "metadata": {
  "kernelspec": {
   "display_name": "Python 3 (ipykernel)",
   "language": "python",
   "name": "python3"
  },
  "language_info": {
   "codemirror_mode": {
    "name": "ipython",
    "version": 3
   },
   "file_extension": ".py",
   "mimetype": "text/x-python",
   "name": "python",
   "nbconvert_exporter": "python",
   "pygments_lexer": "ipython3",
   "version": "3.9.13"
  }
 },
 "nbformat": 4,
 "nbformat_minor": 5
}
