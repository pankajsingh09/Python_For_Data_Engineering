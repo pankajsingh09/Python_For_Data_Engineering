{
 "cells": [
  {
   "cell_type": "code",
   "execution_count": 1,
   "id": "d8628ab6",
   "metadata": {},
   "outputs": [
    {
     "ename": "IndentationError",
     "evalue": "unexpected indent (2647974950.py, line 2)",
     "output_type": "error",
     "traceback": [
      "\u001b[1;36m  Cell \u001b[1;32mIn [1], line 2\u001b[1;36m\u001b[0m\n\u001b[1;33m    while list1 and list2:\u001b[0m\n\u001b[1;37m    ^\u001b[0m\n\u001b[1;31mIndentationError\u001b[0m\u001b[1;31m:\u001b[0m unexpected indent\n"
     ]
    }
   ],
   "source": [
    "newHead = dummyHead = ListNode()\n",
    "        while list1 and list2:\n",
    "            if list1.val < list2.val:\n",
    "                dummyHead.next = list1\n",
    "                list1 = list1.next\n",
    "            else:\n",
    "                dummyHead.next = list2\n",
    "                list2 = list2.next\n",
    "            dummyHead = dummyHead.next\n",
    "        \n",
    "        if list1:\n",
    "            dummyHead.next = list1\n",
    "        if list2:\n",
    "            dummyHead.next = list2\n",
    "        return newHead.next"
   ]
  },
  {
   "cell_type": "code",
   "execution_count": 2,
   "id": "8a5f7ed4",
   "metadata": {},
   "outputs": [
    {
     "ename": "IndentationError",
     "evalue": "unexpected indent (706542089.py, line 3)",
     "output_type": "error",
     "traceback": [
      "\u001b[1;36m  Cell \u001b[1;32mIn [2], line 3\u001b[1;36m\u001b[0m\n\u001b[1;33m    while list1 and list2:\u001b[0m\n\u001b[1;37m    ^\u001b[0m\n\u001b[1;31mIndentationError\u001b[0m\u001b[1;31m:\u001b[0m unexpected indent\n"
     ]
    }
   ],
   "source": [
    "curr = dummy = ListNode()\n",
    "\n",
    "        while list1 and list2:\n",
    "            if list1<list2:\n",
    "                curr.next=list1\n",
    "                list1=list1.next\n",
    "            else:\n",
    "                curr.next = list2\n",
    "                list2 = list2.next\n",
    "            curr = curr.next\n",
    "\n",
    "        if list1:\n",
    "                curr.next=list1\n",
    "\n",
    "        if list2:\n",
    "                curr.next=list2\n",
    "            \n",
    "        return dummy.next\n",
    "                "
   ]
  },
  {
   "cell_type": "code",
   "execution_count": 3,
   "id": "73af28e0",
   "metadata": {},
   "outputs": [],
   "source": [
    "list1= [1,2,3,4]\n"
   ]
  },
  {
   "cell_type": "code",
   "execution_count": 4,
   "id": "f246f32e",
   "metadata": {},
   "outputs": [
    {
     "data": {
      "text/plain": [
       "4"
      ]
     },
     "execution_count": 4,
     "metadata": {},
     "output_type": "execute_result"
    }
   ],
   "source": [
    "list1.pop()"
   ]
  },
  {
   "cell_type": "code",
   "execution_count": 6,
   "id": "70727b3b",
   "metadata": {},
   "outputs": [],
   "source": [
    "list1.append(4)"
   ]
  },
  {
   "cell_type": "code",
   "execution_count": 7,
   "id": "ab2adb9c",
   "metadata": {},
   "outputs": [
    {
     "data": {
      "text/plain": [
       "[1, 2, 3, 4]"
      ]
     },
     "execution_count": 7,
     "metadata": {},
     "output_type": "execute_result"
    }
   ],
   "source": [
    "list1"
   ]
  },
  {
   "cell_type": "code",
   "execution_count": 8,
   "id": "aaeb6bcc",
   "metadata": {},
   "outputs": [
    {
     "data": {
      "text/plain": [
       "2"
      ]
     },
     "execution_count": 8,
     "metadata": {},
     "output_type": "execute_result"
    }
   ],
   "source": [
    "list1.index(len(list1)-1)"
   ]
  },
  {
   "cell_type": "code",
   "execution_count": 9,
   "id": "1480f97e",
   "metadata": {},
   "outputs": [
    {
     "ename": "AttributeError",
     "evalue": "'list' object has no attribute 'add'",
     "output_type": "error",
     "traceback": [
      "\u001b[1;31m---------------------------------------------------------------------------\u001b[0m",
      "\u001b[1;31mAttributeError\u001b[0m                            Traceback (most recent call last)",
      "Cell \u001b[1;32mIn [9], line 1\u001b[0m\n\u001b[1;32m----> 1\u001b[0m list1\u001b[38;5;241m.\u001b[39madd(\u001b[38;5;241m6\u001b[39m)\n",
      "\u001b[1;31mAttributeError\u001b[0m: 'list' object has no attribute 'add'"
     ]
    }
   ],
   "source": [
    "list1.add(6)"
   ]
  },
  {
   "cell_type": "code",
   "execution_count": null,
   "id": "aaf60eb2",
   "metadata": {},
   "outputs": [],
   "source": []
  }
 ],
 "metadata": {
  "kernelspec": {
   "display_name": "Python 3 (ipykernel)",
   "language": "python",
   "name": "python3"
  },
  "language_info": {
   "codemirror_mode": {
    "name": "ipython",
    "version": 3
   },
   "file_extension": ".py",
   "mimetype": "text/x-python",
   "name": "python",
   "nbconvert_exporter": "python",
   "pygments_lexer": "ipython3",
   "version": "3.9.13"
  }
 },
 "nbformat": 4,
 "nbformat_minor": 5
}
