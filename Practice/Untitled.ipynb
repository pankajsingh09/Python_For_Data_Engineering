{
 "cells": [
  {
   "cell_type": "code",
   "execution_count": 81,
   "id": "433d0fa1",
   "metadata": {},
   "outputs": [],
   "source": [
    "def twoSum(nums, target):\n",
    "        \"\"\"\n",
    "        :type nums: List[int]\n",
    "        :type target: int\n",
    "        :rtype: List[int]\n",
    "        \"\"\"\n",
    "\n",
    "        \n",
    "        \n",
    "        first=-1\n",
    "        second=-1\n",
    "        flag= False\n",
    "\n",
    "        for i in range(len(nums)):\n",
    "            j = i+1\n",
    "            first= i \n",
    "            while j < len(nums):\n",
    "                s = target - nums[i]\n",
    "                second = j\n",
    "                print(i,j,s, nums[j])\n",
    "                if nums[j] == s:\n",
    "                    flag = True\n",
    "                    break\n",
    "                j = j+1\n",
    "            if flag:\n",
    "                break\n",
    "                    \n",
    "        l = []\n",
    "        l.append(first)\n",
    "        l.append(second)\n",
    "        return l"
   ]
  },
  {
   "cell_type": "code",
   "execution_count": 82,
   "id": "6c66b79e",
   "metadata": {},
   "outputs": [
    {
     "name": "stdout",
     "output_type": "stream",
     "text": [
      "0 1 3 2\n",
      "0 2 3 4\n",
      "1 2 4 4\n"
     ]
    },
    {
     "data": {
      "text/plain": [
       "[1, 2]"
      ]
     },
     "execution_count": 82,
     "metadata": {},
     "output_type": "execute_result"
    }
   ],
   "source": [
    "l = [3,2,4]\n",
    "target= 6\n",
    "twoSum(l,target)"
   ]
  },
  {
   "cell_type": "code",
   "execution_count": 97,
   "id": "8530e246",
   "metadata": {},
   "outputs": [],
   "source": [
    "def twoSum1(nums, target):\n",
    "        \"\"\"\n",
    "        :type nums: List[int]\n",
    "        :type target: int\n",
    "        :rtype: List[int]\n",
    "        \"\"\"\n",
    "\n",
    "        \n",
    "        d = {}\n",
    "\n",
    "        for i in range(len(nums)):\n",
    "            diff = target - nums[i]\n",
    "            if diff in d:\n",
    "                return [d[diff], i]\n",
    "            else:\n",
    "                d[nums[i]] = i\n",
    "                \n",
    "          "
   ]
  },
  {
   "cell_type": "code",
   "execution_count": 98,
   "id": "763a37ea",
   "metadata": {},
   "outputs": [
    {
     "data": {
      "text/plain": [
       "[1, 2]"
      ]
     },
     "execution_count": 98,
     "metadata": {},
     "output_type": "execute_result"
    }
   ],
   "source": [
    "l = [3,2,4]\n",
    "target= 6\n",
    "twoSum1(l,target)"
   ]
  },
  {
   "cell_type": "code",
   "execution_count": null,
   "id": "2a345322",
   "metadata": {},
   "outputs": [],
   "source": []
  },
  {
   "cell_type": "code",
   "execution_count": null,
   "id": "9d158b76",
   "metadata": {},
   "outputs": [],
   "source": []
  }
 ],
 "metadata": {
  "kernelspec": {
   "display_name": "Python 3 (ipykernel)",
   "language": "python",
   "name": "python3"
  },
  "language_info": {
   "codemirror_mode": {
    "name": "ipython",
    "version": 3
   },
   "file_extension": ".py",
   "mimetype": "text/x-python",
   "name": "python",
   "nbconvert_exporter": "python",
   "pygments_lexer": "ipython3",
   "version": "3.9.13"
  }
 },
 "nbformat": 4,
 "nbformat_minor": 5
}
