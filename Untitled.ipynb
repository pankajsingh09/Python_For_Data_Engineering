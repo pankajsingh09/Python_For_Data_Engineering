{
 "cells": [
  {
   "cell_type": "code",
   "execution_count": 15,
   "id": "f533f363",
   "metadata": {},
   "outputs": [],
   "source": [
    "class example:\n",
    "    def __init__(self):\n",
    "        pass\n",
    "        \n",
    "    def printNum(self,lst):\n",
    "        for i in lst:\n",
    "            if i == 3:\n",
    "                print(i)\n",
    "            else:\n",
    "                raise Exception\n"
   ]
  },
  {
   "cell_type": "code",
   "execution_count": 16,
   "id": "c73ab4a0",
   "metadata": {},
   "outputs": [],
   "source": [
    "ex = example()"
   ]
  },
  {
   "cell_type": "code",
   "execution_count": 17,
   "id": "817095ed",
   "metadata": {},
   "outputs": [
    {
     "ename": "Exception",
     "evalue": "",
     "output_type": "error",
     "traceback": [
      "\u001b[1;31m---------------------------------------------------------------------------\u001b[0m",
      "\u001b[1;31mException\u001b[0m                                 Traceback (most recent call last)",
      "Cell \u001b[1;32mIn [17], line 2\u001b[0m\n\u001b[0;32m      1\u001b[0m lst \u001b[38;5;241m=\u001b[39m [\u001b[38;5;241m1\u001b[39m,\u001b[38;5;241m2\u001b[39m,\u001b[38;5;241m3\u001b[39m,\u001b[38;5;241m4\u001b[39m,\u001b[38;5;241m5\u001b[39m]\n\u001b[1;32m----> 2\u001b[0m ex\u001b[38;5;241m.\u001b[39mprintNum(lst)\n",
      "Cell \u001b[1;32mIn [15], line 10\u001b[0m, in \u001b[0;36mexample.printNum\u001b[1;34m(self, lst)\u001b[0m\n\u001b[0;32m      8\u001b[0m     \u001b[38;5;28mprint\u001b[39m(i)\n\u001b[0;32m      9\u001b[0m \u001b[38;5;28;01melse\u001b[39;00m:\n\u001b[1;32m---> 10\u001b[0m     \u001b[38;5;28;01mraise\u001b[39;00m \u001b[38;5;167;01mException\u001b[39;00m\n",
      "\u001b[1;31mException\u001b[0m: "
     ]
    }
   ],
   "source": [
    "lst = [1,2,3,4,5]\n",
    "ex.printNum(lst)"
   ]
  },
  {
   "cell_type": "code",
   "execution_count": 24,
   "id": "73c0c335",
   "metadata": {},
   "outputs": [
    {
     "name": "stdout",
     "output_type": "stream",
     "text": [
      "4 divided by 3 is 1.33\n",
      "4 divided by 3 is 1.33\n",
      "4 divided by 3 is 1.33\n",
      "4 divided by 3 is 1.33\n",
      "4 divided by 3 is 1.33\n",
      "4 divided by 3 is  1.33\n",
      "4 divided by 3 is   1.33\n",
      "4 divided by 3 is    1.33\n",
      "4 divided by 3 is     1.33\n",
      "4 divided by 3 is      1.33\n",
      "4 divided by 3 is       1.33\n"
     ]
    }
   ],
   "source": [
    "print(f\"4 divided by 3 is {4/3:0.2f}\")\n",
    "print(f\"4 divided by 3 is {4/3:1.2f}\")\n",
    "print(f\"4 divided by 3 is {4/3:2.2f}\")\n",
    "print(f\"4 divided by 3 is {4/3:3.2f}\")\n",
    "print(f\"4 divided by 3 is {4/3:4.2f}\")\n",
    "print(f\"4 divided by 3 is {4/3:5.2f}\")\n",
    "print(f\"4 divided by 3 is {4/3:6.2f}\")\n",
    "print(f\"4 divided by 3 is {4/3:7.2f}\")\n",
    "print(f\"4 divided by 3 is {4/3:8.2f}\")\n",
    "print(f\"4 divided by 3 is {4/3:9.2f}\")\n",
    "print(f\"4 divided by 3 is {4/3:10.2f}\")"
   ]
  },
  {
   "cell_type": "code",
   "execution_count": 33,
   "id": "037c58d9",
   "metadata": {},
   "outputs": [
    {
     "name": "stdout",
     "output_type": "stream",
     "text": [
      "Left     |  Center  |    Right\n",
      "11       |    22    |       33\n"
     ]
    }
   ],
   "source": [
    "print('{0:<8} | {1:^8} | {2:>8}'.format('Left','Center','Right'))\n",
    "print('{0:<8} | {1:^8} | {2:>8}'.format(11,22,33))"
   ]
  },
  {
   "cell_type": "code",
   "execution_count": 38,
   "id": "b9a7693d",
   "metadata": {},
   "outputs": [
    {
     "name": "stdout",
     "output_type": "stream",
     "text": [
      "Fruit    | Quantity \n",
      "Apples   |       3.0\n",
      "Oranges  |        10\n"
     ]
    }
   ],
   "source": [
    "print('{0:8} | {1:9}'.format('Fruit', 'Quantity'))\n",
    "print('{0:8} | {1:9}'.format('Apples', 3.))\n",
    "print('{0:8} | {1:9}'.format('Oranges', 10))"
   ]
  },
  {
   "cell_type": "code",
   "execution_count": null,
   "id": "926d2a40",
   "metadata": {},
   "outputs": [],
   "source": [
    "\n"
   ]
  },
  {
   "cell_type": "code",
   "execution_count": null,
   "id": "0f9affc6",
   "metadata": {},
   "outputs": [],
   "source": []
  },
  {
   "cell_type": "code",
   "execution_count": null,
   "id": "eb10de22",
   "metadata": {},
   "outputs": [],
   "source": []
  },
  {
   "cell_type": "code",
   "execution_count": null,
   "id": "85cb7215",
   "metadata": {},
   "outputs": [],
   "source": []
  },
  {
   "cell_type": "code",
   "execution_count": null,
   "id": "8edd8fa7",
   "metadata": {},
   "outputs": [],
   "source": []
  }
 ],
 "metadata": {
  "kernelspec": {
   "display_name": "Python 3 (ipykernel)",
   "language": "python",
   "name": "python3"
  },
  "language_info": {
   "codemirror_mode": {
    "name": "ipython",
    "version": 3
   },
   "file_extension": ".py",
   "mimetype": "text/x-python",
   "name": "python",
   "nbconvert_exporter": "python",
   "pygments_lexer": "ipython3",
   "version": "3.9.13"
  }
 },
 "nbformat": 4,
 "nbformat_minor": 5
}
